{
 "cells": [
  {
   "cell_type": "code",
   "execution_count": 12,
   "id": "c4209b6f",
   "metadata": {},
   "outputs": [],
   "source": [
    "import pandas as pd\n",
    "import numpy as np\n",
    "from sklearn import preprocessing\n",
    "import matplotlib.pyplot as plt\n",
    "plt.rc(\"font\", size=14)\n",
    "from sklearn.linear_model import LogisticRegression\n",
    "from sklearn.model_selection import train_test_split\n",
    "import seaborn as sns\n",
    "sns.set(style=\"white\")\n",
    "sns.set(style=\"whitegrid\", color_codes=True)\n",
    "from sklearn.preprocessing import LabelEncoder\n",
    "from sklearn.preprocessing import OneHotEncoder"
   ]
  },
  {
   "cell_type": "code",
   "execution_count": 8,
   "id": "7c93dace",
   "metadata": {},
   "outputs": [
    {
     "name": "stdout",
     "output_type": "stream",
     "text": [
      "['Outlook', 'Temperature', 'Humidity', 'Windy', 'Beach Weather']\n"
     ]
    }
   ],
   "source": [
    "data = pd.read_excel(\"Weather.xlsx\")\n",
    "print(list(data.columns))"
   ]
  },
  {
   "cell_type": "code",
   "execution_count": 9,
   "id": "f0e61c7a",
   "metadata": {},
   "outputs": [
    {
     "name": "stdout",
     "output_type": "stream",
     "text": [
      "(43, 5)\n"
     ]
    }
   ],
   "source": [
    "print(data.shape)"
   ]
  },
  {
   "cell_type": "code",
   "execution_count": 10,
   "id": "6a64f961",
   "metadata": {},
   "outputs": [
    {
     "data": {
      "text/html": [
       "<div>\n",
       "<style scoped>\n",
       "    .dataframe tbody tr th:only-of-type {\n",
       "        vertical-align: middle;\n",
       "    }\n",
       "\n",
       "    .dataframe tbody tr th {\n",
       "        vertical-align: top;\n",
       "    }\n",
       "\n",
       "    .dataframe thead th {\n",
       "        text-align: right;\n",
       "    }\n",
       "</style>\n",
       "<table border=\"1\" class=\"dataframe\">\n",
       "  <thead>\n",
       "    <tr style=\"text-align: right;\">\n",
       "      <th></th>\n",
       "      <th>Outlook</th>\n",
       "      <th>Temperature</th>\n",
       "      <th>Humidity</th>\n",
       "      <th>Windy</th>\n",
       "      <th>Beach Weather</th>\n",
       "    </tr>\n",
       "  </thead>\n",
       "  <tbody>\n",
       "    <tr>\n",
       "      <th>0</th>\n",
       "      <td>Rainy</td>\n",
       "      <td>Hot</td>\n",
       "      <td>High</td>\n",
       "      <td>False</td>\n",
       "      <td>No</td>\n",
       "    </tr>\n",
       "    <tr>\n",
       "      <th>1</th>\n",
       "      <td>Rainy</td>\n",
       "      <td>Hot</td>\n",
       "      <td>High</td>\n",
       "      <td>True</td>\n",
       "      <td>No</td>\n",
       "    </tr>\n",
       "    <tr>\n",
       "      <th>2</th>\n",
       "      <td>Overcast</td>\n",
       "      <td>Hot</td>\n",
       "      <td>High</td>\n",
       "      <td>False</td>\n",
       "      <td>Yes</td>\n",
       "    </tr>\n",
       "    <tr>\n",
       "      <th>3</th>\n",
       "      <td>Sunny</td>\n",
       "      <td>Mild</td>\n",
       "      <td>High</td>\n",
       "      <td>False</td>\n",
       "      <td>Yes</td>\n",
       "    </tr>\n",
       "    <tr>\n",
       "      <th>4</th>\n",
       "      <td>Sunny</td>\n",
       "      <td>Cool</td>\n",
       "      <td>Normal</td>\n",
       "      <td>False</td>\n",
       "      <td>Yes</td>\n",
       "    </tr>\n",
       "  </tbody>\n",
       "</table>\n",
       "</div>"
      ],
      "text/plain": [
       "    Outlook Temperature Humidity  Windy Beach Weather\n",
       "0     Rainy         Hot     High  False            No\n",
       "1     Rainy         Hot     High   True            No\n",
       "2  Overcast         Hot     High  False           Yes\n",
       "3     Sunny        Mild     High  False           Yes\n",
       "4     Sunny        Cool   Normal  False           Yes"
      ]
     },
     "execution_count": 10,
     "metadata": {},
     "output_type": "execute_result"
    }
   ],
   "source": [
    "data.head()"
   ]
  },
  {
   "cell_type": "code",
   "execution_count": 20,
   "id": "2a351a9b",
   "metadata": {},
   "outputs": [
    {
     "name": "stdout",
     "output_type": "stream",
     "text": [
      "[1 1 0 2 2 2 0 1 1 2 1 2 2 2 2 2 2 2 2 2 2 2 2 1 1 1 1 1 1 1 1 1 1 1 1 0 0\n",
      " 0 0 0 0 0 0]\n"
     ]
    }
   ],
   "source": [
    "le = LabelEncoder()\n",
    "outlook_encoded = le.fit_transform(data['Outlook'])\n",
    "print(outlook_encoded)"
   ]
  },
  {
   "cell_type": "code",
   "execution_count": 15,
   "id": "a5cecec6",
   "metadata": {},
   "outputs": [
    {
     "name": "stdout",
     "output_type": "stream",
     "text": [
      "     Outlook Temperature Humidity  Windy Beach Weather  outlook_encoded\n",
      "0      Rainy         Hot     High  False            No                1\n",
      "1      Rainy         Hot     High   True            No                1\n",
      "2   Overcast         Hot     High  False           Yes                0\n",
      "3      Sunny        Mild     High  False           Yes                2\n",
      "4      Sunny        Cool   Normal  False           Yes                2\n",
      "5      Sunny        Cool   Normal   True            No                2\n",
      "6   Overcast        Cool   Normal   True           Yes                0\n",
      "7      Rainy        Mild     High  False            No                1\n",
      "8      Rainy        Cool   Normal  False           Yes                1\n",
      "9      Sunny        Cool   Normal  False           Yes                2\n",
      "10     Rainy        Cool   Normal   True           Yes                1\n",
      "11     Sunny         Hot     High   True           Yes                2\n",
      "12     Sunny         Hot     High  False           Yes                2\n",
      "13     Sunny         Hot   Normal   True           Yes                2\n",
      "14     Sunny         Hot   Normal  False           Yes                2\n",
      "15     Sunny        Cool     High   True            No                2\n",
      "16     Sunny        Cool     High  False            No                2\n",
      "17     Sunny        Cool   Normal   True            No                2\n",
      "18     Sunny        Cool   Normal  False            No                2\n",
      "19     Sunny        Mild     High   True           Yes                2\n",
      "20     Sunny        Mild     High  False           Yes                2\n",
      "21     Sunny        Mild   Normal   True           Yes                2\n",
      "22     Sunny        Mild   Normal  False           Yes                2\n",
      "23     Rainy         Hot     High   True            No                1\n",
      "24     Rainy         Hot     High  False            No                1\n",
      "25     Rainy         Hot   Normal   True            No                1\n",
      "26     Rainy         Hot   Normal  False            No                1\n",
      "27     Rainy        Cool     High   True            No                1\n",
      "28     Rainy        Cool     High  False            No                1\n",
      "29     Rainy        Cool   Normal   True            No                1\n",
      "30     Rainy        Cool   Normal  False            No                1\n",
      "31     Rainy        Mild     High   True            No                1\n",
      "32     Rainy        Mild     High  False            No                1\n",
      "33     Rainy        Mild   Normal   True            No                1\n",
      "34     Rainy        Mild   Normal  False            No                1\n",
      "35  Overcast        Cool     High   True            No                0\n",
      "36  Overcast        Cool     High  False            No                0\n",
      "37  Overcast        Cool   Normal   True            No                0\n",
      "38  Overcast        Cool   Normal  False            No                0\n",
      "39  Overcast        Mild     High   True           Yes                0\n",
      "40  Overcast        Mild     High  False           Yes                0\n",
      "41  Overcast        Mild   Normal   True           Yes                0\n",
      "42  Overcast        Mild   Normal  False           Yes                0\n"
     ]
    }
   ],
   "source": [
    "data['outlook_encoded'] = outlook_encoded\n",
    "print(data)"
   ]
  },
  {
   "cell_type": "code",
   "execution_count": 22,
   "id": "895c77b9",
   "metadata": {},
   "outputs": [
    {
     "name": "stdout",
     "output_type": "stream",
     "text": [
      "[1 1 1 2 0 0 0 2 0 0 0 1 1 1 1 0 0 0 0 2 2 2 2 1 1 1 1 0 0 0 0 2 2 2 2 0 0\n",
      " 0 0 2 2 2 2]\n"
     ]
    }
   ],
   "source": [
    "temperature_encoded = le.fit_transform(data['Temperature'])\n",
    "print(temperature_encoded)"
   ]
  },
  {
   "cell_type": "code",
   "execution_count": 25,
   "id": "0bdb90eb",
   "metadata": {},
   "outputs": [
    {
     "name": "stdout",
     "output_type": "stream",
     "text": [
      "     Outlook Temperature Humidity  Windy Beach Weather  outlook_encoded  \\\n",
      "0      Rainy         Hot     High  False            No                1   \n",
      "1      Rainy         Hot     High   True            No                1   \n",
      "2   Overcast         Hot     High  False           Yes                0   \n",
      "3      Sunny        Mild     High  False           Yes                2   \n",
      "4      Sunny        Cool   Normal  False           Yes                2   \n",
      "5      Sunny        Cool   Normal   True            No                2   \n",
      "6   Overcast        Cool   Normal   True           Yes                0   \n",
      "7      Rainy        Mild     High  False            No                1   \n",
      "8      Rainy        Cool   Normal  False           Yes                1   \n",
      "9      Sunny        Cool   Normal  False           Yes                2   \n",
      "10     Rainy        Cool   Normal   True           Yes                1   \n",
      "11     Sunny         Hot     High   True           Yes                2   \n",
      "12     Sunny         Hot     High  False           Yes                2   \n",
      "13     Sunny         Hot   Normal   True           Yes                2   \n",
      "14     Sunny         Hot   Normal  False           Yes                2   \n",
      "15     Sunny        Cool     High   True            No                2   \n",
      "16     Sunny        Cool     High  False            No                2   \n",
      "17     Sunny        Cool   Normal   True            No                2   \n",
      "18     Sunny        Cool   Normal  False            No                2   \n",
      "19     Sunny        Mild     High   True           Yes                2   \n",
      "20     Sunny        Mild     High  False           Yes                2   \n",
      "21     Sunny        Mild   Normal   True           Yes                2   \n",
      "22     Sunny        Mild   Normal  False           Yes                2   \n",
      "23     Rainy         Hot     High   True            No                1   \n",
      "24     Rainy         Hot     High  False            No                1   \n",
      "25     Rainy         Hot   Normal   True            No                1   \n",
      "26     Rainy         Hot   Normal  False            No                1   \n",
      "27     Rainy        Cool     High   True            No                1   \n",
      "28     Rainy        Cool     High  False            No                1   \n",
      "29     Rainy        Cool   Normal   True            No                1   \n",
      "30     Rainy        Cool   Normal  False            No                1   \n",
      "31     Rainy        Mild     High   True            No                1   \n",
      "32     Rainy        Mild     High  False            No                1   \n",
      "33     Rainy        Mild   Normal   True            No                1   \n",
      "34     Rainy        Mild   Normal  False            No                1   \n",
      "35  Overcast        Cool     High   True            No                0   \n",
      "36  Overcast        Cool     High  False            No                0   \n",
      "37  Overcast        Cool   Normal   True            No                0   \n",
      "38  Overcast        Cool   Normal  False            No                0   \n",
      "39  Overcast        Mild     High   True           Yes                0   \n",
      "40  Overcast        Mild     High  False           Yes                0   \n",
      "41  Overcast        Mild   Normal   True           Yes                0   \n",
      "42  Overcast        Mild   Normal  False           Yes                0   \n",
      "\n",
      "    temperature_encoded  \n",
      "0                     1  \n",
      "1                     1  \n",
      "2                     1  \n",
      "3                     2  \n",
      "4                     0  \n",
      "5                     0  \n",
      "6                     0  \n",
      "7                     2  \n",
      "8                     0  \n",
      "9                     0  \n",
      "10                    0  \n",
      "11                    1  \n",
      "12                    1  \n",
      "13                    1  \n",
      "14                    1  \n",
      "15                    0  \n",
      "16                    0  \n",
      "17                    0  \n",
      "18                    0  \n",
      "19                    2  \n",
      "20                    2  \n",
      "21                    2  \n",
      "22                    2  \n",
      "23                    1  \n",
      "24                    1  \n",
      "25                    1  \n",
      "26                    1  \n",
      "27                    0  \n",
      "28                    0  \n",
      "29                    0  \n",
      "30                    0  \n",
      "31                    2  \n",
      "32                    2  \n",
      "33                    2  \n",
      "34                    2  \n",
      "35                    0  \n",
      "36                    0  \n",
      "37                    0  \n",
      "38                    0  \n",
      "39                    2  \n",
      "40                    2  \n",
      "41                    2  \n",
      "42                    2  \n"
     ]
    }
   ],
   "source": [
    "data['temperature_encoded'] = temperature_encoded\n",
    "print(data)"
   ]
  },
  {
   "cell_type": "code",
   "execution_count": null,
   "id": "b674617b",
   "metadata": {},
   "outputs": [],
   "source": []
  }
 ],
 "metadata": {
  "kernelspec": {
   "display_name": "Python 3",
   "language": "python",
   "name": "python3"
  },
  "language_info": {
   "codemirror_mode": {
    "name": "ipython",
    "version": 3
   },
   "file_extension": ".py",
   "mimetype": "text/x-python",
   "name": "python",
   "nbconvert_exporter": "python",
   "pygments_lexer": "ipython3",
   "version": "3.8.8"
  }
 },
 "nbformat": 4,
 "nbformat_minor": 5
}
